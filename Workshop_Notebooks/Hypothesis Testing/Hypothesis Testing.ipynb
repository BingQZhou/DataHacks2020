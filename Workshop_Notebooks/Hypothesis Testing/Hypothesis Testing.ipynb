{
 "cells": [
  {
   "cell_type": "markdown",
   "metadata": {
    "slideshow": {
     "slide_type": "slide"
    }
   },
   "source": [
    "# Hypothesis Time!\n",
    "### The Basics:"
   ]
  },
  {
   "cell_type": "markdown",
   "metadata": {
    "slideshow": {
     "slide_type": "notes"
    }
   },
   "source": [
    "- ask questions throughout to make sure they get it! (ie types of errors)\n",
    "- add packages/resources (statsmodel/sklearn/etc)\n",
    "- tell them they can either design or implement\n",
    "- do it and then release notebook afterwards\n",
    "- go through code line by line\n",
    "- add definitions earlier\n",
    "- more graphics!\n",
    "\n"
   ]
  },
  {
   "cell_type": "markdown",
   "metadata": {
    "slideshow": {
     "slide_type": "fragment"
    }
   },
   "source": [
    "##### What is a hypothesis test???\n",
    "\n",
    "\"Hypothesis testing in statistics is a way for you to test the results of a survey or experiment to see if you have meaningful results. You’re basically testing whether your results are valid by figuring out the odds that your results have happened by chance. If your results may have happened by chance, the experiment won’t be repeatable and so has little use.\"\n",
    "\n",
    "aka: testing to see how reproducable and useful your results are!"
   ]
  },
  {
   "cell_type": "markdown",
   "metadata": {
    "slideshow": {
     "slide_type": "fragment"
    }
   },
   "source": [
    "<img src = 'problem.jfif' width = 400>"
   ]
  },
  {
   "cell_type": "markdown",
   "metadata": {
    "slideshow": {
     "slide_type": "slide"
    }
   },
   "source": [
    "## Simulating A Basic Hypothesis Test with Song data:\n",
    "We have song data for the top 2018 songs on spotify! Fome kaggle [here](https://www.kaggle.com/nadintamer/top-spotify-tracks-of-2018).\n",
    "\n",
    "Let's say we have a basic claim of most songs are around 3.5 minutes long.\n",
    "\n",
    "We check the data and see the top 100 songs have an average duration of 3.42 minutes long. Are the top 100 songs shorter than songs on average? How can we tell?\n",
    "\n",
    "HYPOTHESIS TEST! "
   ]
  },
  {
   "cell_type": "markdown",
   "metadata": {},
   "source": [
    "#### First step: Define your hypotheses:\n",
    "\n",
    "`Null hypothesis: (no difference between groups)` There is no difference between popular songs and other songs in terms of song length!\n",
    "\n",
    "`Alternative hypothesis: (there is a significant difference)` Popular songs are shorter on average compared to most songs."
   ]
  },
  {
   "cell_type": "code",
   "execution_count": 1,
   "metadata": {
    "slideshow": {
     "slide_type": "slide"
    }
   },
   "outputs": [],
   "source": [
    "import pandas as pd\n",
    "import numpy as np\n",
    "import matplotlib.pyplot as plt\n",
    "\n",
    "#read in file\n",
    "songs = pd.read_csv(\"top2018.csv\")"
   ]
  },
  {
   "cell_type": "code",
   "execution_count": 159,
   "metadata": {
    "slideshow": {
     "slide_type": "fragment"
    }
   },
   "outputs": [
    {
     "data": {
      "text/html": [
       "<div>\n",
       "<style scoped>\n",
       "    .dataframe tbody tr th:only-of-type {\n",
       "        vertical-align: middle;\n",
       "    }\n",
       "\n",
       "    .dataframe tbody tr th {\n",
       "        vertical-align: top;\n",
       "    }\n",
       "\n",
       "    .dataframe thead th {\n",
       "        text-align: right;\n",
       "    }\n",
       "</style>\n",
       "<table border=\"1\" class=\"dataframe\">\n",
       "  <thead>\n",
       "    <tr style=\"text-align: right;\">\n",
       "      <th></th>\n",
       "      <th>id</th>\n",
       "      <th>name</th>\n",
       "      <th>artists</th>\n",
       "      <th>danceability</th>\n",
       "      <th>energy</th>\n",
       "      <th>key</th>\n",
       "      <th>loudness</th>\n",
       "      <th>mode</th>\n",
       "      <th>speechiness</th>\n",
       "      <th>acousticness</th>\n",
       "      <th>instrumentalness</th>\n",
       "      <th>liveness</th>\n",
       "      <th>valence</th>\n",
       "      <th>tempo</th>\n",
       "      <th>duration_ms</th>\n",
       "      <th>time_signature</th>\n",
       "      <th>happy</th>\n",
       "      <th>label</th>\n",
       "      <th>time</th>\n",
       "    </tr>\n",
       "  </thead>\n",
       "  <tbody>\n",
       "    <tr>\n",
       "      <th>0</th>\n",
       "      <td>6DCZcSspjsKoFjzjrWoCd</td>\n",
       "      <td>God's Plan</td>\n",
       "      <td>Drake</td>\n",
       "      <td>0.754</td>\n",
       "      <td>0.449</td>\n",
       "      <td>7.0</td>\n",
       "      <td>-9.211</td>\n",
       "      <td>1.0</td>\n",
       "      <td>0.1090</td>\n",
       "      <td>0.0332</td>\n",
       "      <td>0.000083</td>\n",
       "      <td>0.552</td>\n",
       "      <td>0.357</td>\n",
       "      <td>77.169</td>\n",
       "      <td>198973.0</td>\n",
       "      <td>4.0</td>\n",
       "      <td>0.0</td>\n",
       "      <td>sad</td>\n",
       "      <td>3.316217</td>\n",
       "    </tr>\n",
       "    <tr>\n",
       "      <th>1</th>\n",
       "      <td>3ee8Jmje8o58CHK66QrVC</td>\n",
       "      <td>SAD!</td>\n",
       "      <td>XXXTENTACION</td>\n",
       "      <td>0.740</td>\n",
       "      <td>0.613</td>\n",
       "      <td>8.0</td>\n",
       "      <td>-4.880</td>\n",
       "      <td>1.0</td>\n",
       "      <td>0.1450</td>\n",
       "      <td>0.2580</td>\n",
       "      <td>0.003720</td>\n",
       "      <td>0.123</td>\n",
       "      <td>0.473</td>\n",
       "      <td>75.023</td>\n",
       "      <td>166606.0</td>\n",
       "      <td>4.0</td>\n",
       "      <td>0.0</td>\n",
       "      <td>sad</td>\n",
       "      <td>2.776767</td>\n",
       "    </tr>\n",
       "    <tr>\n",
       "      <th>2</th>\n",
       "      <td>0e7ipj03S05BNilyu5bRz</td>\n",
       "      <td>rockstar (feat. 21 Savage)</td>\n",
       "      <td>Post Malone</td>\n",
       "      <td>0.587</td>\n",
       "      <td>0.535</td>\n",
       "      <td>5.0</td>\n",
       "      <td>-6.090</td>\n",
       "      <td>0.0</td>\n",
       "      <td>0.0898</td>\n",
       "      <td>0.1170</td>\n",
       "      <td>0.000066</td>\n",
       "      <td>0.131</td>\n",
       "      <td>0.140</td>\n",
       "      <td>159.847</td>\n",
       "      <td>218147.0</td>\n",
       "      <td>4.0</td>\n",
       "      <td>0.0</td>\n",
       "      <td>sad</td>\n",
       "      <td>3.635783</td>\n",
       "    </tr>\n",
       "  </tbody>\n",
       "</table>\n",
       "</div>"
      ],
      "text/plain": [
       "                      id                        name       artists  \\\n",
       "0  6DCZcSspjsKoFjzjrWoCd                  God's Plan         Drake   \n",
       "1  3ee8Jmje8o58CHK66QrVC                        SAD!  XXXTENTACION   \n",
       "2  0e7ipj03S05BNilyu5bRz  rockstar (feat. 21 Savage)   Post Malone   \n",
       "\n",
       "   danceability  energy  key  loudness  mode  speechiness  acousticness  \\\n",
       "0         0.754   0.449  7.0    -9.211   1.0       0.1090        0.0332   \n",
       "1         0.740   0.613  8.0    -4.880   1.0       0.1450        0.2580   \n",
       "2         0.587   0.535  5.0    -6.090   0.0       0.0898        0.1170   \n",
       "\n",
       "   instrumentalness  liveness  valence    tempo  duration_ms  time_signature  \\\n",
       "0          0.000083     0.552    0.357   77.169     198973.0             4.0   \n",
       "1          0.003720     0.123    0.473   75.023     166606.0             4.0   \n",
       "2          0.000066     0.131    0.140  159.847     218147.0             4.0   \n",
       "\n",
       "   happy label      time  \n",
       "0    0.0   sad  3.316217  \n",
       "1    0.0   sad  2.776767  \n",
       "2    0.0   sad  3.635783  "
      ]
     },
     "execution_count": 159,
     "metadata": {},
     "output_type": "execute_result"
    }
   ],
   "source": [
    "songs.head(3)"
   ]
  },
  {
   "cell_type": "code",
   "execution_count": 160,
   "metadata": {
    "slideshow": {
     "slide_type": "slide"
    }
   },
   "outputs": [
    {
     "data": {
      "text/plain": [
       "3.4201129999999993"
      ]
     },
     "execution_count": 160,
     "metadata": {},
     "output_type": "execute_result"
    }
   ],
   "source": [
    "#make the songs into minutes\n",
    "songs[\"time\"] = songs.duration_ms/1000/60\n",
    "\n",
    "#song length of top 100 songs\n",
    "observed = songs[\"time\"].mean()\n",
    "observed "
   ]
  },
  {
   "cell_type": "code",
   "execution_count": 127,
   "metadata": {
    "slideshow": {
     "slide_type": "fragment"
    }
   },
   "outputs": [
    {
     "data": {
      "image/png": "[encoded data removed]",
      "text/plain": [
       "<Figure size 432x288 with 1 Axes>"
      ]
     },
     "metadata": {
      "needs_background": "light"
     },
     "output_type": "display_data"
    }
   ],
   "source": [
    "#looking at the original distribution of times (is it normal?)\n",
    "songs.time.hist();\n",
    "plt.title(\"Song Time in Minutes for Top 100 songs\")\n",
    "plt.xlabel(\"time (min)\")\n",
    "plt.ylabel(\"frequency\");"
   ]
  },
  {
   "cell_type": "code",
   "execution_count": 117,
   "metadata": {
    "slideshow": {
     "slide_type": "slide"
    }
   },
   "outputs": [],
   "source": [
    "#this is bootstrapping!\n",
    "n=1000\n",
    "times = []\n",
    "\n",
    "for i in range(n):\n",
    "    resample = songs.sample(frac = 1, replace = True).reset_index(drop= True)\n",
    "    mean_time = (resample.duration_ms/1000/60).mean()\n",
    "    times.append(mean_time)\n"
   ]
  },
  {
   "cell_type": "markdown",
   "metadata": {},
   "source": [
    "Bootstrapping is resampling from your one sample multiple times (with replacement)! This way you're able to \"simulate\" other samples!"
   ]
  },
  {
   "cell_type": "code",
   "execution_count": 140,
   "metadata": {
    "slideshow": {
     "slide_type": "fragment"
    }
   },
   "outputs": [
    {
     "data": {
      "image/png": "[encoded data removed]",
      "text/plain": [
       "<Figure size 432x288 with 1 Axes>"
      ]
     },
     "metadata": {
      "needs_background": "light"
     },
     "output_type": "display_data"
    }
   ],
   "source": [
    "resample_times = pd.Series(times)\n",
    "resample_times.hist()\n",
    "plt.title(\"Mean Song times for Resamples\")\n",
    "plt.xlabel(\"time (min)\")\n",
    "plt.ylabel(\"frequency\");"
   ]
  },
  {
   "cell_type": "code",
   "execution_count": 143,
   "metadata": {
    "slideshow": {
     "slide_type": "slide"
    }
   },
   "outputs": [
    {
     "data": {
      "text/plain": [
       "(3.2872617916666664, 3.557400200000001)"
      ]
     },
     "execution_count": 143,
     "metadata": {},
     "output_type": "execute_result"
    }
   ],
   "source": [
    "#since this graph is normal, we can create a confidence interval using percentiles!\n",
    "#95% confidence interval means that \n",
    "lower_bound, upper_bound = np.percentile(resample_times, 2.5), np.percentile(resample_times, 97.5)\n",
    "lower_bound, upper_bound"
   ]
  },
  {
   "cell_type": "code",
   "execution_count": 156,
   "metadata": {
    "slideshow": {
     "slide_type": "fragment"
    }
   },
   "outputs": [
    {
     "data": {
      "text/plain": [
       "[<matplotlib.lines.Line2D at 0x267fbd07a20>]"
      ]
     },
     "execution_count": 156,
     "metadata": {},
     "output_type": "execute_result"
    },
    {
     "data": {
      "image/png": "[encoded data removed]",
      "text/plain": [
       "<Figure size 432x288 with 1 Axes>"
      ]
     },
     "metadata": {
      "needs_background": "light"
     },
     "output_type": "display_data"
    }
   ],
   "source": [
    "### ADDING IN CONFIDENCE INTERVAL ###\n",
    "resample_times = pd.Series(times)\n",
    "resample_times.hist()\n",
    "plt.title(\"Mean Song times for Resamples\")\n",
    "plt.xlabel(\"time (min)\")\n",
    "plt.ylabel(\"frequency\");\n",
    "\n",
    "# plotting our guess of 3.5 mins\n",
    "plt.scatter(3.5, 0, c = 'purple', linewidth = 10, zorder = 3)\n",
    "# confidence interval\n",
    "plt.plot([lower_bound, upper_bound], [0,0], c = 'r',linewidth = 9, zorder =2)"
   ]
  },
  {
   "cell_type": "markdown",
   "metadata": {
    "slideshow": {
     "slide_type": "slide"
    }
   },
   "source": [
    "Since the confidence interval overlaps with the expected value of 3.5 mins (null hyopthesis), we *cannot* reject the null hypothesis that the average time of popular songs is 3.5 mins. "
   ]
  },
  {
   "cell_type": "markdown",
   "metadata": {
    "slideshow": {
     "slide_type": "slide"
    }
   },
   "source": [
    "\n",
    "\n",
    "## This case is a special type of Hypothesis test called permutation tests:\n",
    "#### Two separate populations: Happy and Sad Songs\n",
    "\n",
    "A hypothesis is a guess based on what we know about the data (or we see some pattern in the data which leads to further investigation). \n",
    "\n",
    "We have data on music, let's see if there's a difference in songs that are \"happy\" [1] (above median valence) in comparison to songs that are \"sad\" [0] (below median variance)\n",
    "\n",
    "### Null Hypothesis:\n",
    "We expect no significant difference between the two groups, they come from the same population but have differences due to random error. The two groups are \"happy\" and \"sad\".\n",
    "\n",
    "In this example: the difference in the mean danceability of \"happy\" and \"sad\" songs is due to random error and the two distributions come from the same population.\n",
    "\n",
    "### Alternative Hypothesis:\n",
    "What happens when we reject the null we support the alternative hypothesis, aka the distribution of means come from different underlying populations.\n",
    "\n",
    "In this example: Since the observed difference in mean danceability is significantly differnet, the \"happy\" and \"sad\" songs are from two different populations.\n",
    "\n",
    "tldr; Are the means different enough to say the happy songs and sad songs have a significant different in danceability? \n",
    "\n",
    "We have to quantify this \"different enough\" through simulations!"
   ]
  },
  {
   "cell_type": "markdown",
   "metadata": {
    "slideshow": {
     "slide_type": "slide"
    }
   },
   "source": [
    "#### Are happy songs more likely to be more danceable?\n",
    "\n",
    "Let's compare the difference in mean danceability:"
   ]
  },
  {
   "cell_type": "code",
   "execution_count": 157,
   "metadata": {
    "slideshow": {
     "slide_type": "fragment"
    }
   },
   "outputs": [
    {
     "data": {
      "text/html": [
       "<div>\n",
       "<style scoped>\n",
       "    .dataframe tbody tr th:only-of-type {\n",
       "        vertical-align: middle;\n",
       "    }\n",
       "\n",
       "    .dataframe tbody tr th {\n",
       "        vertical-align: top;\n",
       "    }\n",
       "\n",
       "    .dataframe thead th {\n",
       "        text-align: right;\n",
       "    }\n",
       "</style>\n",
       "<table border=\"1\" class=\"dataframe\">\n",
       "  <thead>\n",
       "    <tr style=\"text-align: right;\">\n",
       "      <th></th>\n",
       "      <th>mean</th>\n",
       "    </tr>\n",
       "    <tr>\n",
       "      <th>happy</th>\n",
       "      <th></th>\n",
       "    </tr>\n",
       "  </thead>\n",
       "  <tbody>\n",
       "    <tr>\n",
       "      <th>0.0</th>\n",
       "      <td>0.692055</td>\n",
       "    </tr>\n",
       "    <tr>\n",
       "      <th>1.0</th>\n",
       "      <td>0.746289</td>\n",
       "    </tr>\n",
       "  </tbody>\n",
       "</table>\n",
       "</div>"
      ],
      "text/plain": [
       "           mean\n",
       "happy          \n",
       "0.0    0.692055\n",
       "1.0    0.746289"
      ]
     },
     "execution_count": 157,
     "metadata": {},
     "output_type": "execute_result"
    }
   ],
   "source": [
    "# compare mean danceability\n",
    "songs[\"happy\"] = songs.valence.round()\n",
    "songs.groupby(\"happy\").agg([\"mean\"])[\"danceability\"]"
   ]
  },
  {
   "cell_type": "markdown",
   "metadata": {
    "slideshow": {
     "slide_type": "slide"
    }
   },
   "source": [
    "### Observed Statistic:\n",
    "The observed statistic is a quantitative measure of how far apart the distributions are.\n",
    "Ie. at first you may think: you could randomly take one happy song and one sad song and find the difference in danceability. But this method is highly variable (as the danceability can drastically change between different songs).\n",
    "\n",
    "A better approach: Take the mean of the danceability for the \"happy\" and \"sad\" songs. That way you can take into account each song's danceability. Then find the difference in means to see how different the distributions are. \n",
    "\n",
    "There are other statistics you can take as well: sum of danceability, TVD, etc.\n",
    "\n",
    "`sum:` can add up all the danceability for each group and then find the difference\n",
    "\n",
    "`TVD:` comparing distributions. Ie if you are comparing danceability AND energy for the two groups, you can use TVD.\n",
    "calculated: the sum of the absolute differences between distributions / 2.\n",
    "\n",
    "as well as others...\n"
   ]
  },
  {
   "cell_type": "markdown",
   "metadata": {
    "slideshow": {
     "slide_type": "slide"
    }
   },
   "source": [
    "\n",
    "### Test Statistic:\n",
    "We need to be able to quantify how different the two populations are. A test statistic is one you can compared to the observed value to judge how reasonable the observed statistic is. The more test statistics to compare the better (as there is some randomness involved).\n",
    "\n",
    "In this example, we took the difference of means for the \"happy\" and \"sad\" songs, thus in order to *compare* two values they have to be calculated the same way. So we need to take samples of \"happy\" and \"sad\" songs and find the difference in means. \n",
    "\n",
    "But how will we do this if we only have the one sample you ask..."
   ]
  },
  {
   "cell_type": "code",
   "execution_count": 37,
   "metadata": {
    "slideshow": {
     "slide_type": "slide"
    }
   },
   "outputs": [],
   "source": [
    "#label happy and sad\n",
    "label = songs[\"happy\"].astype(str).str.replace('0.0', \"sad\").str.replace(\"1.0\", \"happy\")\n",
    "songs[\"label\"] = label\n",
    "\n",
    "#observed statistic: (using the original data)\n",
    "observed = songs[[\"label\", \"danceability\"]].groupby(\"label\").mean().diff().iloc[-1][0]"
   ]
  },
  {
   "cell_type": "code",
   "execution_count": 71,
   "metadata": {
    "slideshow": {
     "slide_type": "slide"
    }
   },
   "outputs": [],
   "source": [
    "#one test statistic:\n",
    "def generate_test(df):\n",
    "    #make a copy to not alter original data table\n",
    "    data = df[[\"label\", \"danceability\"]].copy()\n",
    "    \n",
    "    #shuffle the labels\n",
    "    data = data.assign(shuffled_label = songs[\"label\"].sample(frac =1).reset_index(drop=True))\n",
    "    \n",
    "    #get the test statistic by diff of means\n",
    "    test_stat = data.groupby(\"shuffled_label\").mean().diff().iloc[-1][0]\n",
    "    \n",
    "    return test_stat"
   ]
  },
  {
   "cell_type": "markdown",
   "metadata": {
    "slideshow": {
     "slide_type": "slide"
    }
   },
   "source": [
    "### Simulations:\n",
    "We need to simulate the null (test statistic) many times so we can compared them to the observed value to see how far off they are. In order to do this, we shuffle up the labels (happy vs sad) and reassign. \n",
    "\n",
    "The main assumption is that if the difference between \"happy\" and \"sad\" songs is due to random variance, then shuffling up the labels will give us a difference in danceability that is similar to what we observed. If the two populations are really different, then shuffling will give us a difference smaller than what is observed (since the difference is significant)\n"
   ]
  },
  {
   "cell_type": "code",
   "execution_count": 87,
   "metadata": {
    "slideshow": {
     "slide_type": "slide"
    }
   },
   "outputs": [],
   "source": [
    "test_statistics = []\n",
    "#need to run it enough times\n",
    "\n",
    "n=1000\n",
    "#run this, might take a little while since it's \n",
    "for i in range(1000):\n",
    "    test_statistics.append(generate_test(songs))\n",
    "    "
   ]
  },
  {
   "cell_type": "code",
   "execution_count": 89,
   "metadata": {
    "slideshow": {
     "slide_type": "fragment"
    }
   },
   "outputs": [
    {
     "data": {
      "text/plain": [
       "[0.03332121212121186,\n",
       " 0.02394747474747483,\n",
       " -0.028254545454545532,\n",
       " 0.04451313131313139,\n",
       " -0.03839595959595976,\n",
       " -0.03492121212121213,\n",
       " -0.013224242424242472,\n",
       " -0.05722424242424229,\n",
       " -0.00021414141414166643,\n",
       " 0.0443515151515147]"
      ]
     },
     "execution_count": 89,
     "metadata": {},
     "output_type": "execute_result"
    }
   ],
   "source": [
    "#little look at what somce of the simulated statistics look like:\n",
    "test_statistics[:10]"
   ]
  },
  {
   "cell_type": "code",
   "execution_count": 92,
   "metadata": {
    "slideshow": {
     "slide_type": "skip"
    }
   },
   "outputs": [
    {
     "data": {
      "text/plain": [
       "0.054234343434343524"
      ]
     },
     "execution_count": 92,
     "metadata": {},
     "output_type": "execute_result"
    }
   ],
   "source": [
    "#the observed value\n",
    "abs(observed)"
   ]
  },
  {
   "cell_type": "markdown",
   "metadata": {
    "slideshow": {
     "slide_type": "slide"
    }
   },
   "source": [
    "### P-value!\n",
    "The direction of the comparison sign is very important when comparing observed values to the simulated values.\n",
    "\n",
    "definition of p-value:\n",
    "\n",
    "\"In statistical hypothesis testing, the p-value or probability value is, for a given statistical model, the probability that, when the null hypothesis is true, the statistical summary (such as the absolute value of the sample mean difference between two compared groups) would be greater than or equal to the actual observed results.\"\n",
    "\n",
    "tldr; the probability given the null hypothesis is true that we would see the observed value.\n",
    "\n",
    "In our example: this is the probability that the danceability of happy songs is rated greater than sad songs by at least 0.054."
   ]
  },
  {
   "cell_type": "markdown",
   "metadata": {
    "slideshow": {
     "slide_type": "slide"
    }
   },
   "source": [
    "<img src = 'hyp.jfif' width = 500 height = 500>"
   ]
  },
  {
   "cell_type": "code",
   "execution_count": 90,
   "metadata": {
    "slideshow": {
     "slide_type": "slide"
    }
   },
   "outputs": [
    {
     "data": {
      "text/plain": [
       "0.016"
      ]
     },
     "execution_count": 90,
     "metadata": {},
     "output_type": "execute_result"
    }
   ],
   "source": [
    "#see how often the difference \n",
    "p_value = np.count_nonzero(observed >= test_statistics)/n\n",
    "p_value\n",
    "\n",
    "#since the p value < 0.05, this is significant"
   ]
  },
  {
   "cell_type": "markdown",
   "metadata": {
    "slideshow": {
     "slide_type": "fragment"
    }
   },
   "source": [
    "Now that we have a p-value, what does it mean? There are standard significant levels of p values to compare to.\n",
    "\n",
    "*p-value = 0.05*: 1/20 chance of seeing this observed value given the two groups were from the same population.\n",
    "This is statistically significant\n",
    "\n",
    "*p-value = 0.001*: statistically highly significant 1/1,000 chance of occuring given the null hypothesis is true.\n",
    "\n",
    "If you think about it, if the chance of something happening is so miniscule, it probably means our assumption (the null hypothesis) is incorrect. Thus, if the p-value is < 0.05 (using normal standard) then we reject the null hypothesis and accept the alternative hypothesis as being more likely!\n"
   ]
  },
  {
   "cell_type": "markdown",
   "metadata": {
    "slideshow": {
     "slide_type": "slide"
    }
   },
   "source": [
    "## NOTE: \n",
    "you cannot *conclude* the alternative hypothesis is correct. It's still a probability so at best you can accept the alternative hypothesis."
   ]
  },
  {
   "cell_type": "markdown",
   "metadata": {
    "slideshow": {
     "slide_type": "slide"
    }
   },
   "source": [
    "### Types of Errors:\n",
    "There are two types of main errors: Type I and Type II. \n",
    "\n",
    "Type I is when you reject the null hypothesis when it's actually true.\n",
    "Type II is when you accept the null hypothesis when it's actually false.\n",
    "\n",
    "Based on what you're trying to determine, one error can be worse than the other. It's just dependent on the data.\n",
    "Aka, if you have a higher than average blood pressure being safe and getting it checked out even if the results aren't statistically significant may be a good idea.\n",
    "\n",
    "Remember: p is just a probability! If you have 20 trials the probability is that `one` of them will probably be 'significant'. Just be careful!"
   ]
  },
  {
   "cell_type": "markdown",
   "metadata": {
    "slideshow": {
     "slide_type": "slide"
    }
   },
   "source": [
    "<img src = 'pval.PNG'>"
   ]
  },
  {
   "cell_type": "markdown",
   "metadata": {
    "slideshow": {
     "slide_type": "slide"
    }
   },
   "source": [
    "# In Conclusion: Hypothesis testing\n",
    "1. need hypothesis\n",
    "    - null and alternative\n",
    "2. determine test statistic\n",
    "    - tvd, means, etc.\n",
    "2. need to simulate the null\n",
    "    - simulate test statistic\n",
    "3. look at curve\n",
    "    - look at observed value vs test statistics\n",
    "4. calculate p value and/or confidence interval\n",
    "5. look at error \n",
    "    - understand the significance of the results"
   ]
  },
  {
   "cell_type": "markdown",
   "metadata": {
    "slideshow": {
     "slide_type": "slide"
    }
   },
   "source": [
    "### Future Direction:\n",
    "\n",
    "There are lots of cool python statistics packages as well (to speed up the process)! Click the link to head to the documentation!\n",
    "\n",
    "- [scipy](https://docs.scipy.org/doc/scipy/reference/)\n",
    "- [statsmodels](https://www.statsmodels.org/stable/examples/index.html)\n",
    "- [sklearn](https://scikit-learn.org/stable/tutorial/statistical_inference/index.html)"
   ]
  },
  {
   "cell_type": "markdown",
   "metadata": {
    "slideshow": {
     "slide_type": "slide"
    }
   },
   "source": [
    "<img src = 'pvalue.jpg' width = 500>"
   ]
  },
  {
   "cell_type": "markdown",
   "metadata": {
    "slideshow": {
     "slide_type": "slide"
    }
   },
   "source": [
    "### References:\n",
    "https://www.statisticshowto.datasciencecentral.com/probability-and-statistics/null-hypothesis/\n",
    "https://www.inferentialthinking.com/chapters/12/1/AB_Testing.html\n",
    "https://www.statsdirect.com/help/basics/p_values.htm\n",
    "https://towardsdatascience.com/p-values-explained-by-data-scientist-f40a746cfc8\n",
    "https://towardsdatascience.com/everything-you-need-to-know-about-hypothesis-testing-part-i-4de9abebbc8a\n",
    "https://www.pinterest.ca/pin/214132157265291627/\n",
    "https://github.com/learn-co-students/dsc-0-09-19-1-sample-z-test-readme-online-ds-sp-000"
   ]
  }
 ],
 "metadata": {
  "celltoolbar": "Slideshow",
  "kernelspec": {
   "display_name": "Python 3",
   "language": "python",
   "name": "python3"
  },
  "language_info": {
   "codemirror_mode": {
    "name": "ipython",
    "version": 3
   },
   "file_extension": ".py",
   "mimetype": "text/x-python",
   "name": "python",
   "nbconvert_exporter": "python",
   "pygments_lexer": "ipython3",
   "version": "3.7.3"
  }
 },
 "nbformat": 4,
 "nbformat_minor": 2
}
